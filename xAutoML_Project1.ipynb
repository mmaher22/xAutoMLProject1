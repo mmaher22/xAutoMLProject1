{
  "nbformat": 4,
  "nbformat_minor": 0,
  "metadata": {
    "colab": {
      "provenance": []
    },
    "kernelspec": {
      "name": "python3",
      "display_name": "Python 3"
    },
    "language_info": {
      "name": "python"
    }
  },
  "cells": [
    {
      "cell_type": "markdown",
      "source": [
        "## Imports"
      ],
      "metadata": {
        "id": "uRMMIgZw5mll"
      }
    },
    {
      "cell_type": "code",
      "source": [
        "import os\n",
        "import random\n",
        "import numpy as np\n",
        "import pandas as pd\n",
        "import matplotlib.pyplot as plt\n",
        "from sklearn.model_selection import train_test_split\n",
        "from sklearn.svm import SVC\n",
        "from sklearn.neighbors import KNeighborsClassifier\n",
        "from sklearn.tree import DecisionTreeClassifier\n",
        "from sklearn.linear_model import LogisticRegression\n",
        "from sklearn.ensemble import RandomForestClassifier, GradientBoostingClassifier\n",
        "from sklearn.metrics import accuracy_score, f1_score, log_loss, top_k_accuracy_score\n",
        "from hyperopt import fmin, tpe, hp, Trials, STATUS_OK\n",
        "from sklearn.preprocessing import StandardScaler\n",
        "from sklearn.pipeline import Pipeline\n",
        "from hyperopt.pyll.base import scope\n",
        "from scipy.stats import wilcoxon\n",
        "os.environ['PYTHONHASHSEED'] = '42'\n",
        "random.seed(42)\n",
        "np.random.seed(42)"
      ],
      "metadata": {
        "id": "Yp3y-N_LvQtp"
      },
      "execution_count": 15,
      "outputs": []
    },
    {
      "cell_type": "markdown",
      "source": [
        "### Loading the data splits"
      ],
      "metadata": {
        "id": "MZcbPile5ppM"
      }
    },
    {
      "cell_type": "code",
      "source": [
        "# Step 0: Load the datasets\n",
        "train_data = pd.read_csv('Knowledge_base_train.csv')\n",
        "test_data = pd.read_csv('Knowledge_base_test.csv')\n",
        "\n",
        "# Separate features and target\n",
        "X_train = train_data.drop(columns=[\"class\"])\n",
        "y_train = train_data[\"class\"]\n",
        "X_test = test_data.drop(columns=[\"class\"])\n",
        "y_test = test_data[\"class\"]"
      ],
      "metadata": {
        "id": "Vz1CrB_bvTQl"
      },
      "execution_count": 16,
      "outputs": []
    },
    {
      "cell_type": "markdown",
      "source": [
        "### Finding the best baseline model"
      ],
      "metadata": {
        "id": "yx4SemJu5uN0"
      }
    },
    {
      "cell_type": "code",
      "execution_count": 17,
      "metadata": {
        "colab": {
          "base_uri": "https://localhost:8080/"
        },
        "id": "o0SrxVrCvHUo",
        "outputId": "ec554631-4286-4013-a5aa-a87370485c8b"
      },
      "outputs": [
        {
          "output_type": "stream",
          "name": "stdout",
          "text": [
            "RandomForest Micro F1-Score: 0.6200 - Acc@3: 0.9100 - Log Loss: 1.3780\n",
            "DecisionTree Micro F1-Score: 0.6000 - Acc@3: 0.7800 - Log Loss: 14.4175\n"
          ]
        },
        {
          "output_type": "stream",
          "name": "stderr",
          "text": [
            "/usr/local/lib/python3.10/dist-packages/sklearn/linear_model/_logistic.py:469: ConvergenceWarning: lbfgs failed to converge (status=1):\n",
            "STOP: TOTAL NO. of ITERATIONS REACHED LIMIT.\n",
            "\n",
            "Increase the number of iterations (max_iter) or scale the data as shown in:\n",
            "    https://scikit-learn.org/stable/modules/preprocessing.html\n",
            "Please also refer to the documentation for alternative solver options:\n",
            "    https://scikit-learn.org/stable/modules/linear_model.html#logistic-regression\n",
            "  n_iter_i = _check_optimize_result(\n"
          ]
        },
        {
          "output_type": "stream",
          "name": "stdout",
          "text": [
            "LogisticRegression Micro F1-Score: 0.5400 - Acc@3: 0.8400 - Log Loss: 1.3746\n",
            "SVM Micro F1-Score: 0.4400 - Acc@3: 0.8300 - Log Loss: 1.4378\n",
            "KNN Micro F1-Score: 0.4400 - Acc@3: 0.8000 - Log Loss: 8.9920\n",
            "GradientBoosting Micro F1-Score: 0.5900 - Acc@3: 0.9200 - Log Loss: 1.2613\n",
            "Best Baseline Model: GradientBoosting with \n",
            "Micro F1-Score: 0.5900\n",
            "Accuracy@3: 0.9200\n",
            "Log Loss: 1.2613\n"
          ]
        }
      ],
      "source": [
        "# Step 1: Build and train baseline models with default hyperparameters\n",
        "def train_baseline_models(X_train, y_train, X_test, y_test):\n",
        "  models = {\"RandomForest\": RandomForestClassifier(),\n",
        "            \"DecisionTree\": DecisionTreeClassifier(),\n",
        "            \"LogisticRegression\": LogisticRegression(max_iter=1000),\n",
        "            \"SVM\": SVC(probability=True),\n",
        "            \"KNN\": KNeighborsClassifier(),\n",
        "            \"GradientBoosting\": GradientBoostingClassifier()\n",
        "  }\n",
        "  baseline_results = {}\n",
        "  for model_name, model in models.items():\n",
        "    model.fit(X_train, y_train)\n",
        "    predictions = model.predict(X_test)\n",
        "    preds_probs = model.predict_proba(X_test)\n",
        "    score = f1_score(y_test, predictions, average='micro')\n",
        "    acc_3 = top_k_accuracy_score(y_test, preds_probs, k=3)\n",
        "    loss = log_loss(y_test, preds_probs)\n",
        "    baseline_results[model_name] = (loss, -score, -acc_3)\n",
        "    print(f\"{model_name} Micro F1-Score: {score:.4f} - Acc@3: {acc_3:.4f} - Log Loss: {loss:.4f}\")\n",
        "\n",
        "  # Select the best model\n",
        "  best_model_name = min(baseline_results, key=baseline_results.get)\n",
        "  baseline_results_summary = {'f1': -1*baseline_results[best_model_name][1],\n",
        "                              'acc3': -1*baseline_results[best_model_name][2],\n",
        "                              'log_loss': baseline_results[best_model_name][0]}\n",
        "  print(f\"Best Baseline Model: {best_model_name} with \\nMicro F1-Score: {-1*baseline_results[best_model_name][1]:.4f}\")\n",
        "  print(f\"Accuracy@3: {-1*baseline_results[best_model_name][2]:.4f}\")\n",
        "  print(f\"Log Loss: {baseline_results[best_model_name][0]:.4f}\")\n",
        "  return best_model_name, models[best_model_name], baseline_results_summary\n",
        "\n",
        "best_baseline_name, best_baseline_model, baseline_results = train_baseline_models(X_train, y_train, X_test, y_test)"
      ]
    },
    {
      "cell_type": "markdown",
      "source": [
        "### Define the search space to be used with hyper-opt"
      ],
      "metadata": {
        "id": "2iM2hVEx54g5"
      }
    },
    {
      "cell_type": "code",
      "source": [
        "from sklearn.model_selection import StratifiedKFold\n",
        "\n",
        "def objective(params):\n",
        "    model_name = params[\"model_name\"]\n",
        "    del params[\"model_name\"]\n",
        "\n",
        "    if model_name == \"RandomForest\":\n",
        "      model = RandomForestClassifier(**params)\n",
        "    elif model_name == \"DecisionTree\":\n",
        "      model = DecisionTreeClassifier(**params)\n",
        "    elif model_name == \"LogisticRegression\":\n",
        "      model = LogisticRegression(**params, max_iter=1000)\n",
        "    elif model_name == \"SVM\":\n",
        "      model = SVC(probability=True, **params)\n",
        "    elif model_name == \"KNN\":\n",
        "      model = KNeighborsClassifier(**params)\n",
        "    elif model_name == \"GradientBoostingClassifier\":\n",
        "      model = GradientBoostingClassifier(**params)\n",
        "    else:\n",
        "      raise ValueError(f\"Unknown model name: {model_name}\")\n",
        "\n",
        "    pipeline = Pipeline([(\"scaler\", StandardScaler()), (\"classifier\", model)])\n",
        "\n",
        "    cv = StratifiedKFold(n_splits=5, shuffle=True, random_state=42)\n",
        "\n",
        "    f1_scores = []\n",
        "    acc3_scores = []\n",
        "    log_losses = []\n",
        "\n",
        "    for train_index, val_index in cv.split(X_train, y_train):\n",
        "        X_train_fold, X_val_fold = X_train.iloc[train_index], X_train.iloc[val_index]\n",
        "        y_train_fold, y_val_fold = y_train.iloc[train_index], y_train.iloc[val_index]\n",
        "\n",
        "        pipeline.fit(X_train_fold, y_train_fold)\n",
        "        predictions = pipeline.predict(X_val_fold)\n",
        "        preds_probs = pipeline.predict_proba(X_val_fold)\n",
        "\n",
        "        f1_scores.append(f1_score(y_val_fold, predictions, average='micro'))\n",
        "        acc3_scores.append(top_k_accuracy_score(y_val_fold, preds_probs, k=3))\n",
        "        log_losses.append(log_loss(y_val_fold, preds_probs))\n",
        "\n",
        "    mean_f1 = np.mean(f1_scores)\n",
        "    mean_acc3 = np.mean(acc3_scores)\n",
        "    mean_loss = np.mean(log_losses)\n",
        "\n",
        "    return {\"loss\": mean_loss,\n",
        "            \"status\": STATUS_OK,\n",
        "            \"log_loss\": mean_loss,\n",
        "            \"f1-metric\": mean_f1,\n",
        "            \"acc3-metric\": mean_acc3}"
      ],
      "metadata": {
        "id": "Tu1XimtqwkZ6"
      },
      "execution_count": 24,
      "outputs": []
    },
    {
      "cell_type": "code",
      "source": [
        "# Defining the hyperparameter search space\n",
        "search = [\n",
        "    {\n",
        "        \"model_name\": \"RandomForest\",\n",
        "        \"n_estimators\": scope.int(hp.quniform(\"rf-n_estimators\", 50, 300, 10)),\n",
        "        \"max_depth\": scope.int(hp.quniform(\"rf-max_depth\", 3, 20, 1)),\n",
        "        \"min_samples_split\": scope.int(hp.quniform(\"rf-min_samples_split\", 2, 10, 1))\n",
        "    },\n",
        "    {\n",
        "        \"model_name\": \"DecisionTree\",\n",
        "        \"max_depth\": scope.int(hp.quniform(\"dt-max_depth\", 3, 20, 1)),\n",
        "        \"min_samples_split\": scope.int(hp.quniform(\"dt-min_samples_split\", 2, 10, 1))\n",
        "    },\n",
        "    {\n",
        "        \"model_name\": \"LogisticRegression\",\n",
        "        \"C\": hp.loguniform(\"lr-C\", -4, 2),\n",
        "        \"solver\": hp.choice(\"lr-solver\", [\"lbfgs\", \"liblinear\"])\n",
        "    },\n",
        "    {\n",
        "        \"model_name\": \"SVM\",\n",
        "        \"C\": hp.loguniform(\"svm-C\", -4, 2),\n",
        "        \"kernel\": hp.choice(\"svm-kernel\", [\"linear\", \"rbf\"])\n",
        "    },\n",
        "    {\n",
        "        \"model_name\": \"KNN\",\n",
        "        \"n_neighbors\": scope.int(hp.quniform(\"knn-n_neighbors\", 3, 20, 1))\n",
        "    },\n",
        "    {\n",
        "        \"model_name\": \"GradientBoostingClassifier\",\n",
        "        \"learning_rate\": hp.loguniform(\"gb-learning_rate\", -6, 1),\n",
        "        \"n_estimators\": scope.int(hp.quniform(\"gb-n_estimators\", 50, 300, 10)),\n",
        "        \"max_depth\": scope.int(hp.quniform(\"gb-max_depth\", 3, 20, 1)),\n",
        "        \"min_samples_split\": scope.int(hp.quniform(\"gb-min_samples_split\", 2, 10, 1))\n",
        "    },\n",
        "]\n",
        "search_space = hp.choice(\"classifier_type\", search)"
      ],
      "metadata": {
        "id": "yRuow3gDwE9B"
      },
      "execution_count": 25,
      "outputs": []
    },
    {
      "cell_type": "code",
      "source": [
        "trials = Trials()\n",
        "best_hyperparams = fmin(fn=objective,\n",
        "                        space=search_space,\n",
        "                        algo=tpe.suggest,\n",
        "                        max_evals=100,\n",
        "                        trials=trials)\n",
        "\n",
        "print(\"Best Hyperparameters:\", best_hyperparams)"
      ],
      "metadata": {
        "colab": {
          "base_uri": "https://localhost:8080/"
        },
        "id": "JBFvY7cQvpwv",
        "outputId": "a0a3037b-ba90-450d-efae-932c03f51f0e"
      },
      "execution_count": 26,
      "outputs": [
        {
          "output_type": "stream",
          "name": "stdout",
          "text": [
            "100%|██████████| 100/100 [12:01<00:00,  7.21s/trial, best loss: 1.048142870538166]\n",
            "Best Hyperparameters: {'classifier_type': 0, 'rf-max_depth': 10.0, 'rf-min_samples_split': 4.0, 'rf-n_estimators': 240.0}\n"
          ]
        }
      ]
    },
    {
      "cell_type": "markdown",
      "source": [
        "### Optimized Model Performance using Hyper-Opt"
      ],
      "metadata": {
        "id": "sIjx_FTn6BJt"
      }
    },
    {
      "cell_type": "code",
      "source": [
        "# Training and evaluating the best model with optimized hyperparameters\n",
        "def get_best_model_from_hyperparams(best_hyperparams):\n",
        "  print('---> best:', best_hyperparams)\n",
        "  model_name = search[best_hyperparams[\"classifier_type\"]][\"model_name\"]\n",
        "  params = {k.split('-')[-1]: v for k, v in best_hyperparams.items() if k != \"classifier_type\" and k != \"model_name\"}\n",
        "  if 'solver' in params.keys():\n",
        "    params['solver'] = 'lbfgs' if params['solver'] == 0 else 'liblinear'\n",
        "  elif 'kernel' in params.keys():\n",
        "    params['kernel'] = 'linear' if params['kernel'] == 0 else 'rbf'\n",
        "\n",
        "  for param_name in [\"max_depth\", \"n_estimators\", \"min_samples_split\", \"n_neighbors\"]:\n",
        "    if param_name in params:\n",
        "      params[param_name] = int(params[param_name])\n",
        "\n",
        "  if model_name == \"RandomForest\":\n",
        "    model = RandomForestClassifier(**params)\n",
        "  elif model_name == \"DecisionTree\":\n",
        "    model = DecisionTreeClassifier(**params)\n",
        "  elif model_name == \"LogisticRegression\":\n",
        "    model = LogisticRegression(**params, max_iter=1000)\n",
        "  elif model_name == \"SVM\":\n",
        "    model = SVC(**params, probability=True)\n",
        "  elif model_name == \"KNN\":\n",
        "    model = KNeighborsClassifier(**params)\n",
        "  elif model_name == \"GradientBoostingClassifier\":\n",
        "    model = GradientBoostingClassifier(**params)\n",
        "  else:\n",
        "    raise ValueError(f\"Unknown model name: {model_name}\")\n",
        "\n",
        "  return Pipeline([(\"scaler\", StandardScaler()), (\"classifier\", model)])\n",
        "\n",
        "optimized_model_pipeline = get_best_model_from_hyperparams(best_hyperparams)\n",
        "optimized_model_pipeline.fit(X_train, y_train)\n",
        "optimized_predictions = optimized_model_pipeline.predict(X_test)\n",
        "optimized_preds_probs = optimized_model_pipeline.predict_proba(X_test)\n",
        "optimized_f1 = f1_score(y_test, optimized_predictions, average='micro')\n",
        "optimized_loss = log_loss(y_test, optimized_preds_probs)\n",
        "optimized_acc_3 = top_k_accuracy_score(y_test, optimized_preds_probs, k=3)\n",
        "\n",
        "print(f\"Optimized Model Acc@3: {optimized_acc_3:.4f} -  Micro F1-Score performance: {optimized_f1:.4f} - Loss Value {optimized_loss:.4f}\")"
      ],
      "metadata": {
        "colab": {
          "base_uri": "https://localhost:8080/"
        },
        "id": "pP1O9q0hE16a",
        "outputId": "1381f5bc-25a4-46c1-b604-6d51454cc9f2"
      },
      "execution_count": 27,
      "outputs": [
        {
          "output_type": "stream",
          "name": "stdout",
          "text": [
            "---> best: {'classifier_type': 0, 'rf-max_depth': 10.0, 'rf-min_samples_split': 4.0, 'rf-n_estimators': 240.0}\n",
            "Optimized Model Acc@3: 0.9400 -  Micro F1-Score performance: 0.6500 - Loss Value 1.0103\n"
          ]
        }
      ]
    },
    {
      "cell_type": "markdown",
      "source": [
        "### Wilcoxon Signed Rank Test"
      ],
      "metadata": {
        "id": "e0Zt33iF6HgP"
      }
    },
    {
      "cell_type": "code",
      "source": [
        "# Calculate losses for each instance in the test set for both models\n",
        "baseline_probs = best_baseline_model.predict_proba(X_test)\n",
        "baseline_losses = [-log_loss([true_y], [prob], labels=best_baseline_model.classes_) for true_y, prob in zip(y_test, baseline_probs)]\n",
        "optimized_probs = optimized_model_pipeline.predict_proba(X_test)\n",
        "optimized_losses = [-log_loss([true_y], [prob], labels=optimized_model_pipeline.classes_) for true_y, prob in zip(y_test, optimized_probs)]\n",
        "\n",
        "# Perform Wilcoxon signed-rank test to compare the losses\n",
        "statistic, p_value = wilcoxon(baseline_losses, optimized_losses)\n",
        "\n",
        "print(\"\\nWilcoxon Signed-Rank Test (Log Loss):\")\n",
        "print(f\"Statistic: {statistic:.4f}, P-value: {p_value:.4f}\")\n",
        "\n",
        "# Interpret the results\n",
        "if p_value < 0.05:\n",
        "    print(\"The optimized pipeline significantly beats the baseline in terms of log loss.\")\n",
        "else:\n",
        "    print(\"There is no significant difference between the optimized pipeline and baseline in terms of log loss.\")"
      ],
      "metadata": {
        "colab": {
          "base_uri": "https://localhost:8080/"
        },
        "id": "HCdd24UyJp4F",
        "outputId": "3c1dd7e1-f790-4060-c34a-00938320beae"
      },
      "execution_count": 28,
      "outputs": [
        {
          "output_type": "stream",
          "name": "stdout",
          "text": [
            "\n",
            "Wilcoxon Signed-Rank Test (Log Loss):\n",
            "Statistic: 2470.0000, P-value: 0.8500\n",
            "There is no significant difference between the optimized pipeline and baseline in terms of log loss.\n"
          ]
        }
      ]
    },
    {
      "cell_type": "markdown",
      "source": [
        "### Performance Comparison"
      ],
      "metadata": {
        "id": "iN9rxoN66KyR"
      }
    },
    {
      "cell_type": "code",
      "source": [
        "# Create a list of baseline and optimized results for each metric\n",
        "baseline_f1 = baseline_results['f1']\n",
        "f1_scores = [baseline_f1, optimized_f1]\n",
        "baseline_acc_3 = baseline_results['acc3']\n",
        "acc_3_scores = [baseline_acc_3, optimized_acc_3]\n",
        "baseline_loss = baseline_results['log_loss']\n",
        "log_loss_scores = [baseline_loss, optimized_loss]\n",
        "\n",
        "# Create a bar plot for each metric\n",
        "metrics = ['F1-Score', 'Accuracy@3', 'Log Loss']\n",
        "scores = [f1_scores, acc_3_scores, log_loss_scores]\n",
        "labels = ['Baseline', 'Hyperopt']\n",
        "\n",
        "fig, axes = plt.subplots(1, 3, figsize=(15, 5))\n",
        "for i, (metric, score) in enumerate(zip(metrics, scores)):\n",
        "    axes[i].bar(labels, score, color=['blue', 'orange'])\n",
        "    axes[i].set_title(metric)\n",
        "    axes[i].set_ylabel('Value')\n",
        "\n",
        "plt.tight_layout()\n",
        "plt.show()"
      ],
      "metadata": {
        "colab": {
          "base_uri": "https://localhost:8080/",
          "height": 482
        },
        "id": "tW-Z3wAIqHq0",
        "outputId": "7b227ea1-9fe7-424e-9414-b2c80b320399"
      },
      "execution_count": 29,
      "outputs": [
        {
          "output_type": "display_data",
          "data": {
            "text/plain": [
              "<Figure size 1500x500 with 3 Axes>"
            ],
            "image/png": "[encoded data removed]"
          },
          "metadata": {}
        }
      ]
    },
    {
      "cell_type": "code",
      "source": [],
      "metadata": {
        "id": "BXe_j9pc3SHR"
      },
      "execution_count": 23,
      "outputs": []
    }
  ]
}